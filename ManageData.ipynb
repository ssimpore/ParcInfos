{
  "nbformat": 4,
  "nbformat_minor": 0,
  "metadata": {
    "colab": {
      "name": "ManageParcNow.ipynb",
      "provenance": [],
      "collapsed_sections": [],
      "authorship_tag": "ABX9TyO0D6BYdX24tKusm5ubCrV+",
      "include_colab_link": true
    },
    "kernelspec": {
      "name": "python3",
      "display_name": "Python 3"
    },
    "language_info": {
      "name": "python"
    }
  },
  "cells": [
    {
      "cell_type": "markdown",
      "metadata": {
        "id": "view-in-github",
        "colab_type": "text"
      },
      "source": [
        "<a href=\"https://colab.research.google.com/github/ssimpore/ParcInfos/blob/master/ManageData.ipynb\" target=\"_parent\"><img src=\"https://colab.research.google.com/assets/colab-badge.svg\" alt=\"Open In Colab\"/></a>"
      ]
    },
    {
      "cell_type": "code",
      "metadata": {
        "id": "jOSI-NnN8iuf"
      },
      "source": [
        "import pandas as pd\n",
        "import pickle\n",
        "import os.path"
      ],
      "execution_count": 117,
      "outputs": []
    },
    {
      "cell_type": "code",
      "metadata": {
        "id": "d26PyHD8MS-p"
      },
      "source": [
        "class Parametre:\n",
        "    def __init__(self):\n",
        "        self.list_app = ['INFOS', 'ALERTE']\n",
        "        self.list_option = ['Informations générales', 'Informations ACR (ENEDIS)', 'Informations COM (IP)','Informations autres']\n",
        "        self.label_col1 = ['Parc', 'Agence', 'Exploitant', 'Responsable', 'SCADA', 'Maintenance','N° mainteneur', 'Longitude']\n",
        "        self.label_col2 = ['Technologie', 'N° astreinte', 'N° exploitant', 'N° responsable', 'Statut parc','Mainteneur','N° astreinte maint.', 'Latitude']\n",
        "\n",
        "    def __repr__(self):\n",
        "        msg = f\"Label d'affichage\"\n",
        "        return msg\n",
        "\n"
      ],
      "execution_count": 118,
      "outputs": []
    },
    {
      "cell_type": "code",
      "metadata": {
        "id": "FznrEBx5-ASB"
      },
      "source": [
        "class Data:\n",
        "    verify_name = 'None'\n",
        "    def verify(df, nom_parc, variable):\n",
        "        if nom_parc in list(df.index):\n",
        "            r = df.loc[nom_parc, variable]\n",
        "        else:\n",
        "            r = Data.verify_name\n",
        "        if (str(r) != 'nan') and (r != Data.verify_name):\n",
        "            x = r\n",
        "        else:\n",
        "            x = Data.verify_name\n",
        "        return x\n",
        "\n",
        "    def __init__(self, path, new=False):\n",
        "      update = new or (not os.path.isfile('data'))\n",
        "      if update:\n",
        "        self.path = path\n",
        "        self.dfparc = pd.read_excel(self.path, sheet_name='Parc', index_col=1)\n",
        "        self.dfagence = pd.read_excel(self.path, sheet_name='Agence', index_col=0)\n",
        "        self.dfresponsable = pd.read_excel(self.path, sheet_name='Responsable', index_col=0)\n",
        "        self.dfexploitant = pd.read_excel(self.path, sheet_name='Exploitant', index_col=0)\n",
        "        self.dfmainteneur = pd.read_excel(self.path, sheet_name='Mainteneur', index_col=0)\n",
        "        self.dfsolar = self.dfparc[self.dfparc['TECHNOLOGIE'] == 'SOLAR']\n",
        "        self.dfwind = self.dfparc[self.dfparc['TECHNOLOGIE'] == 'WIND']\n",
        "        self.param=Parametre()\n",
        "        \n",
        "        self.saveDataAsPickle()\n",
        "      else:\n",
        "        data = self.useDataFromPickle()\n",
        "        self.dfparc = data.dfparc\n",
        "        self.dfagence = data.dfagence\n",
        "        self.dfresponsable = data.dfresponsable\n",
        "        self.dfexploitant = data.dfexploitant\n",
        "        self.dfmainteneur = data.dfmainteneur\n",
        "        self.dfsolar = data.dfsolar\n",
        "        self.dfwind = data.dfwind\n",
        "        self.param = data.param\n",
        "\n",
        "      \n",
        "        \n",
        "        \n",
        "       \n",
        "    def saveDataAsPickle(self):\n",
        "        with open('data', 'wb') as f:\n",
        "            pickle.dump(self, f, pickle.HIGHEST_PROTOCOL)\n",
        "        #print('using New data')\n",
        "\n",
        "    def useDataFromPickle(self):\n",
        "        with open('data', 'rb') as f:\n",
        "            data = pickle.load(f)\n",
        "        #print('using Pickle data')\n",
        "        return data\n",
        "\n",
        "    def __repr__(self):\n",
        "        return f\"Taille :{len(self.dfparc)} éléments\"\n",
        "\n",
        "        \n",
        "class Exploitant(Data):\n",
        "    def __init__(self, nom_parc, new=False):\n",
        "        Data.__init__(self, new)\n",
        "        self.nom = Data.verify(self.dfparc, nom_parc, 'EXPLOITANT')\n",
        "        self.telephone = Data.verify(self.dfexploitant, self.nom, 'TELEPHONE')\n",
        "        self.email = Data.verify(self.dfexploitant, self.nom, 'EMAIL')\n",
        "\n",
        "    def __repr__(self):\n",
        "        msg = f\"Exploitant:\\nNom: {self.nom}\\nTel: {self.telephone}\\nEmail: {self.email}\"\n",
        "        return msg\n",
        "\n",
        "class Responsable(Data):\n",
        "    def __init__(self, nom_parc, new=False):\n",
        "        Data.__init__(self, new)\n",
        "        self.agence = Data.verify(self.dfparc, nom_parc, 'AGENCE')\n",
        "        self.nom = Data.verify(self.dfresponsable, self.agence, 'NOM')\n",
        "        self.telephone = Data.verify(self.dfresponsable, self.agence, 'TELEPHONE')\n",
        "        self.email = Data.verify(self.dfresponsable, self.agence, 'EMAIL')\n",
        "\n",
        "    def __repr__(self):\n",
        "        msg = f\"Responsable:\\nNom: {self.nom}\\nTel: {self.telephone}\\nEmail: {self.email}\"\n",
        "        return msg\n",
        "\n",
        "class Agence(Data):\n",
        "    def __init__(self, nom_parc, new=False):\n",
        "        Data.__init__(self, new)\n",
        "        self.nom = Data.verify(self.dfparc, nom_parc, 'AGENCE')\n",
        "        self.responsable = Data.verify(self.dfresponsable, self.nom, 'NOM')\n",
        "        self.astreinte = Data.verify(self.dfagence, self.nom, 'N° ASTREINTE')\n",
        "        self.email = Data.verify(self.dfagence, self.nom, 'EMAIL')\n",
        "\n",
        "    def __repr__(self):\n",
        "        msg = f\"Agence:\\nNom: {self.nom}\\nAstreinte: {self.astreinte}\\nEmail: {self.email}\"\n",
        "        return msg\n",
        "\n",
        "\n",
        "class Mainteneur(Data):\n",
        "    class Niveau(Data):\n",
        "        def __init__(self, nom, new=False):\n",
        "            Data.__init__(self, new)\n",
        "            self.nom = nom\n",
        "            self.telephone = Data.verify(self.dfmainteneur, self.nom, 'TELEPHONE')\n",
        "            self.email_entreprise = Data.verify(self.dfmainteneur, self.nom, 'EMAIL ENTREPRISE')\n",
        "            self.email_referent = Data.verify(self.dfmainteneur, self.nom, 'EMAIL REFERENT')\n",
        "            self.astreinte = Data.verify(self.dfmainteneur, self.nom, 'N° ASTREINTE')\n",
        "            self.num_referent = Data.verify(self.dfmainteneur, self.nom, 'N° REFERENT')\n",
        "\n",
        "        def __repr__(self):\n",
        "            msg = f\"Nom: {self.nom}\\nAstreinte: {self.astreinte}\\nEmail: {self.email_entreprise}\"\n",
        "            return msg\n",
        "\n",
        "class Parc(Data):\n",
        "    def verify(df, nom):\n",
        "        if nom in list(df.index):\n",
        "            r = nom\n",
        "        else:\n",
        "            r = Data.verify_name\n",
        "        return r\n",
        "\n",
        "    def __init__(self, nom_parc, new=False):\n",
        "        Data.__init__(self, new)\n",
        "        self.nom = Parc.verify(self.dfparc, nom_parc)\n",
        "        self.trigramme = Data.verify(self.dfparc, self.nom, 'CODE')\n",
        "        self.technologie = Data.verify(self.dfparc, self.nom, 'TECHNOLOGIE')\n",
        "        self.statut = Data.verify(self.dfparc, self.nom, 'STATUT')\n",
        "        self.agregation = Data.verify(self.dfparc, self.nom, 'AGRÉGATION')\n",
        "        self.recette = Data.verify(self.dfparc, self.nom, 'RÉCETTE À FAIRE')\n",
        "        self.cardi = Data.verify(self.dfparc, self.nom, 'N°CARD-I')\n",
        "        self.pdl = Data.verify(self.dfparc, self.nom, 'POSTE DE LIVRAISON')\n",
        "        self.psource = Data.verify(self.dfparc, self.nom, 'POSTE SOURCE')\n",
        "        self.depart = Data.verify(self.dfparc, self.nom, 'DÉPART')\n",
        "        self.num_acr = Data.verify(self.dfparc, self.nom, 'N° ACR')\n",
        "        self.server = Data.verify(self.dfparc, self.nom, 'SERVEUR PARC')\n",
        "        self.ip_sdrt = Data.verify(self.dfparc, self.nom, 'IP SDRT/RIO PDL')\n",
        "        self.ip_asa = Data.verify(self.dfparc, self.nom, 'IP ASA')\n",
        "        self.ip_adsl = Data.verify(self.dfparc, self.nom, 'IP ADSL')\n",
        "        self.num_adsl = Data.verify(self.dfparc, self.nom, 'N° ADSL')\n",
        "        self.ip_satellite = Data.verify(self.dfparc, self.nom, 'IP SATELLITE')\n",
        "        self.commentaire = Data.verify(self.dfparc, self.nom, 'COMMENTAIRE')\n",
        "        self.scada = Data.verify(self.dfparc, self.nom, 'SCADA')\n",
        "        self.latitude = Data.verify(self.dfparc, self.nom, 'LATITUDE')\n",
        "        self.longitude = Data.verify(self.dfparc, self.nom, 'LONGITUDE')\n",
        "\n",
        "        self.exploitant = Exploitant(self.nom)\n",
        "        self.responsable = Responsable(self.nom)\n",
        "        self.agence = Agence(self.nom)\n",
        "        self.mainteneur = Mainteneur(self.nom)\n",
        "\n",
        "    def __repr__(self):\n",
        "        msg = f\"Nom :{self.nom} ({self.trigramme})\"\n",
        "        return msg\n"
      ],
      "execution_count": 119,
      "outputs": []
    },
    {
      "cell_type": "code",
      "metadata": {
        "colab": {
          "base_uri": "https://localhost:8080/"
        },
        "id": "oj3iv6Yl-ZcO",
        "outputId": "51b062f7-13fc-4864-85e0-52057f6238c5"
      },
      "source": [
        "x=Data('data.xlsx',1)\n",
        "x.dfparc.head()\n",
        "e=Parc('Arsac 1')\n",
        "x.param.list_app"
      ],
      "execution_count": 121,
      "outputs": [
        {
          "output_type": "execute_result",
          "data": {
            "text/plain": [
              "['INFOS', 'ALERTE']"
            ]
          },
          "metadata": {
            "tags": []
          },
          "execution_count": 121
        }
      ]
    },
    {
      "cell_type": "code",
      "metadata": {
        "id": "DChD-3RVN4U0"
      },
      "source": [
        ""
      ],
      "execution_count": 120,
      "outputs": []
    },
    {
      "cell_type": "code",
      "metadata": {
        "id": "ASI86RyfWkyQ"
      },
      "source": [
        ""
      ],
      "execution_count": 120,
      "outputs": []
    }
  ]
}